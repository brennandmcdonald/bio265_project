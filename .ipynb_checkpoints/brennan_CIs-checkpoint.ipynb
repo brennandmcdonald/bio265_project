{
 "cells": [
  {
   "cell_type": "code",
   "execution_count": 1,
   "metadata": {},
   "outputs": [],
   "source": [
    "import numpy as np\n",
    "import pandas as pd\n",
    "import matplotlib.pyplot as plt\n",
    "import seaborn as sns\n",
    "import scanpy as sc\n",
    "import anndata as ad\n",
    "import scipy.stats as stats"
   ]
  },
  {
   "cell_type": "code",
   "execution_count": 2,
   "metadata": {},
   "outputs": [],
   "source": [
    "he48 = ad.read_h5ad(\"./he48_processed.h5ad\")"
   ]
  },
  {
   "cell_type": "code",
   "execution_count": 3,
   "metadata": {},
   "outputs": [],
   "source": [
    "pigment = he48[he48.obs.leiden == \"6\"].copy()\n",
    "blastocoelar = he48[he48.obs.leiden == \"14\"].copy()\n",
    "non6 = he48[he48.obs.leiden != \"6\"].copy()\n",
    "non14 = he48[he48.obs.leiden != \"14\"].copy()"
   ]
  },
  {
   "cell_type": "code",
   "execution_count": 4,
   "metadata": {},
   "outputs": [],
   "source": [
    "sc.pp.normalize_total(pigment, target_sum=1e6, layer = \"counts\")\n",
    "sc.pp.normalize_total(blastocoelar, target_sum=1e6, layer = \"counts\")\n",
    "sc.pp.normalize_total(non6, target_sum=1e6, layer = \"counts\")\n",
    "sc.pp.normalize_total(non14, target_sum=1e6, layer = \"counts\")"
   ]
  },
  {
   "cell_type": "code",
   "execution_count": 5,
   "metadata": {},
   "outputs": [
    {
     "name": "stdout",
     "output_type": "stream",
     "text": [
      "WARNING: adata.X seems to be already log-transformed.\n",
      "WARNING: adata.X seems to be already log-transformed.\n",
      "WARNING: adata.X seems to be already log-transformed.\n",
      "WARNING: adata.X seems to be already log-transformed.\n"
     ]
    }
   ],
   "source": [
    "sc.pp.log1p(pigment, base = 2, layer = \"counts\")\n",
    "sc.pp.log1p(blastocoelar, base = 2, layer = \"counts\")\n",
    "sc.pp.log1p(non6, base = 2, layer = \"counts\")\n",
    "sc.pp.log1p(non14, base = 2, layer = \"counts\")"
   ]
  },
  {
   "cell_type": "code",
   "execution_count": 6,
   "metadata": {},
   "outputs": [
    {
     "data": {
      "text/plain": [
       "<Axes: ylabel='Count'>"
      ]
     },
     "execution_count": 6,
     "metadata": {},
     "output_type": "execute_result"
    },
    {
     "data": {
      "image/png": "[encoded data removed]",
      "text/plain": [
       "<Figure size 640x480 with 1 Axes>"
      ]
     },
     "metadata": {},
     "output_type": "display_data"
    }
   ],
   "source": [
    "sns.histplot(blastocoelar[:,\"HER_45847.t1:Sp-Astacin4\"].layers[\"counts\"].flatten())"
   ]
  },
  {
   "cell_type": "code",
   "execution_count": 7,
   "metadata": {},
   "outputs": [
    {
     "data": {
      "text/plain": [
       "<Axes: ylabel='Count'>"
      ]
     },
     "execution_count": 7,
     "metadata": {},
     "output_type": "execute_result"
    },
    {
     "data": {
      "image/png": "[encoded data removed]",
      "text/plain": [
       "<Figure size 640x480 with 1 Axes>"
      ]
     },
     "metadata": {},
     "output_type": "display_data"
    }
   ],
   "source": [
    "sns.histplot(pigment[:,\"HER_46925.t1:Sp-Mif4\"].layers[\"counts\"].flatten())"
   ]
  },
  {
   "cell_type": "code",
   "execution_count": 8,
   "metadata": {},
   "outputs": [
    {
     "name": "stdout",
     "output_type": "stream",
     "text": [
      "95% CI: (12.642198341979583, 13.045402747497956)\n"
     ]
    }
   ],
   "source": [
    "# Confidence interval based on a t-test for the normalized, log2-transformed data\n",
    "\n",
    "# Mif4 in pigment vs. other cells\n",
    "mif4_pigment = pigment[:,\"HER_46925.t1:Sp-Mif4\"].layers[\"counts\"].flatten()  # Expression values in condition 1\n",
    "mif4_other = non6[:,\"HER_46925.t1:Sp-Mif4\"].layers[\"counts\"].flatten()  # Expression values in condition 2\n",
    "\n",
    "mean_diff = np.mean(mif4_pigment) - np.mean(mif4_other)\n",
    "se = np.sqrt(np.var(mif4_pigment, ddof=1)/len(mif4_pigment) + np.var(mif4_other, ddof=1)/len(mif4_other))\n",
    "df = len(mif4_pigment) + len(mif4_other) - 2\n",
    "t_crit = stats.t.ppf(0.975, df)  # 95% CI\n",
    "\n",
    "ci_lower = mean_diff - t_crit * se\n",
    "ci_upper = mean_diff + t_crit * se\n",
    "print(f\"95% CI: ({ci_lower}, {ci_upper})\")"
   ]
  },
  {
   "cell_type": "code",
   "execution_count": 9,
   "metadata": {},
   "outputs": [
    {
     "name": "stdout",
     "output_type": "stream",
     "text": [
      "95% CI: (11.821967792945669, 13.683771419090464)\n"
     ]
    }
   ],
   "source": [
    "# Confidence interval based on a t-test for the normalized, log2-transformed data\n",
    "\n",
    "# Mif4 in pigment vs. other cells\n",
    "astacin_blasto = blastocoelar[:,\"HER_45847.t1:Sp-Astacin4\"].layers[\"counts\"].flatten()  # Expression values in condition 1\n",
    "astacin_other = non14[:,\"HER_45847.t1:Sp-Astacin4\"].layers[\"counts\"].flatten()  # Expression values in condition 2\n",
    "\n",
    "mean_diff = np.mean(astacin_blasto) - np.mean(astacin_other)\n",
    "se = np.sqrt(np.var(astacin_blasto, ddof=1)/len(astacin_blasto) + np.var(astacin_other, ddof=1)/len(astacin_other))\n",
    "df = len(astacin_blasto) + len(astacin_other) - 2\n",
    "t_crit = stats.t.ppf(0.975, df)  # 95% CI\n",
    "\n",
    "ci_lower = mean_diff - t_crit * se\n",
    "ci_upper = mean_diff + t_crit * se\n",
    "print(f\"95% CI: ({ci_lower}, {ci_upper})\")"
   ]
  },
  {
   "cell_type": "code",
   "execution_count": 10,
   "metadata": {},
   "outputs": [],
   "source": [
    "def diff_exp_CI(sample1, sample2, ci_level):\n",
    "    mean_diff = np.mean(sample1) - np.mean(sample2)\n",
    "    se = np.sqrt(np.var(sample1, ddof=1)/len(sample1) + np.var(sample2, ddof=1)/len(sample2))\n",
    "    df = len(sample1) + len(sample2) - 2\n",
    "    t_crit = stats.t.ppf(0.975, df)  # 95% CI\n",
    "\n",
    "    ci_lower = mean_diff - t_crit * se\n",
    "    ci_upper = mean_diff + t_crit * se\n",
    "    \n",
    "    return (ci_lower, ci_upper)"
   ]
  },
  {
   "cell_type": "code",
   "execution_count": null,
   "metadata": {},
   "outputs": [],
   "source": []
  }
 ],
 "metadata": {
  "kernelspec": {
   "display_name": "Python 3",
   "language": "python",
   "name": "python3"
  },
  "language_info": {
   "codemirror_mode": {
    "name": "ipython",
    "version": 3
   },
   "file_extension": ".py",
   "mimetype": "text/x-python",
   "name": "python",
   "nbconvert_exporter": "python",
   "pygments_lexer": "ipython3",
   "version": "3.13.1"
  }
 },
 "nbformat": 4,
 "nbformat_minor": 2
}
